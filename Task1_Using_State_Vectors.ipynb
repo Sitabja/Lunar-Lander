{
 "cells": [
  {
   "cell_type": "markdown",
   "metadata": {},
   "source": [
    "# Lunar Lander using State Vectors"
   ]
  },
  {
   "cell_type": "markdown",
   "metadata": {},
   "source": [
    "### Sitabja Ukil (17200734) & Anandita Pal (17200262)"
   ]
  },
  {
   "cell_type": "markdown",
   "metadata": {},
   "source": [
    "Train a supervised machine learning model to control the Lunar Lander craft based on the high-level state representations."
   ]
  },
  {
   "cell_type": "markdown",
   "metadata": {},
   "source": [
    "## Imports"
   ]
  },
  {
   "cell_type": "code",
   "execution_count": 27,
   "metadata": {
    "collapsed": true
   },
   "outputs": [],
   "source": [
    "import pandas as pd\n",
    "import numpy as np\n",
    "import matplotlib.pyplot as plt\n",
    "import seaborn \n",
    "\n",
    "from sklearn.model_selection import train_test_split\n",
    "from sklearn.preprocessing import StandardScaler\n",
    "\n",
    "from sklearn import metrics\n",
    "from sklearn.ensemble import RandomForestClassifier\n",
    "from SuperLearner import SuperLearnerClassifier\n",
    "import keras\n",
    "from keras.models import Sequential \n",
    "from keras.layers import Dense, Activation\n",
    "import pickle\n",
    "import time"
   ]
  },
  {
   "cell_type": "markdown",
   "metadata": {},
   "source": [
    "## Load data"
   ]
  },
  {
   "cell_type": "markdown",
   "metadata": {},
   "source": [
    "We will use the state vectors here."
   ]
  },
  {
   "cell_type": "code",
   "execution_count": 2,
   "metadata": {
    "scrolled": true
   },
   "outputs": [
    {
     "data": {
      "text/html": [
       "<div>\n",
       "<style>\n",
       "    .dataframe thead tr:only-child th {\n",
       "        text-align: right;\n",
       "    }\n",
       "\n",
       "    .dataframe thead th {\n",
       "        text-align: left;\n",
       "    }\n",
       "\n",
       "    .dataframe tbody tr th {\n",
       "        vertical-align: top;\n",
       "    }\n",
       "</style>\n",
       "<table border=\"1\" class=\"dataframe\">\n",
       "  <thead>\n",
       "    <tr style=\"text-align: right;\">\n",
       "      <th></th>\n",
       "      <th>step</th>\n",
       "      <th>pos_x</th>\n",
       "      <th>pos_y</th>\n",
       "      <th>vel_x</th>\n",
       "      <th>vel_y</th>\n",
       "      <th>ship_lander_angle</th>\n",
       "      <th>ship_lander_angular_vel</th>\n",
       "      <th>leg_1_ground_contact</th>\n",
       "      <th>leg_2_ground_contact</th>\n",
       "      <th>action</th>\n",
       "    </tr>\n",
       "  </thead>\n",
       "  <tbody>\n",
       "    <tr>\n",
       "      <th>0</th>\n",
       "      <td>0</td>\n",
       "      <td>-0.004053</td>\n",
       "      <td>0.937387</td>\n",
       "      <td>-0.410560</td>\n",
       "      <td>-0.215127</td>\n",
       "      <td>0.004703</td>\n",
       "      <td>0.092998</td>\n",
       "      <td>0.0</td>\n",
       "      <td>0.0</td>\n",
       "      <td>3</td>\n",
       "    </tr>\n",
       "    <tr>\n",
       "      <th>1</th>\n",
       "      <td>1</td>\n",
       "      <td>-0.008040</td>\n",
       "      <td>0.933774</td>\n",
       "      <td>-0.401600</td>\n",
       "      <td>-0.240878</td>\n",
       "      <td>0.007613</td>\n",
       "      <td>0.058204</td>\n",
       "      <td>0.0</td>\n",
       "      <td>0.0</td>\n",
       "      <td>3</td>\n",
       "    </tr>\n",
       "    <tr>\n",
       "      <th>2</th>\n",
       "      <td>2</td>\n",
       "      <td>-0.011951</td>\n",
       "      <td>0.929763</td>\n",
       "      <td>-0.392188</td>\n",
       "      <td>-0.267401</td>\n",
       "      <td>0.008632</td>\n",
       "      <td>0.020372</td>\n",
       "      <td>0.0</td>\n",
       "      <td>0.0</td>\n",
       "      <td>3</td>\n",
       "    </tr>\n",
       "    <tr>\n",
       "      <th>3</th>\n",
       "      <td>3</td>\n",
       "      <td>-0.015796</td>\n",
       "      <td>0.925359</td>\n",
       "      <td>-0.383742</td>\n",
       "      <td>-0.293582</td>\n",
       "      <td>0.007955</td>\n",
       "      <td>-0.013536</td>\n",
       "      <td>0.0</td>\n",
       "      <td>0.0</td>\n",
       "      <td>3</td>\n",
       "    </tr>\n",
       "    <tr>\n",
       "      <th>4</th>\n",
       "      <td>4</td>\n",
       "      <td>-0.019576</td>\n",
       "      <td>0.920563</td>\n",
       "      <td>-0.375744</td>\n",
       "      <td>-0.319748</td>\n",
       "      <td>0.005674</td>\n",
       "      <td>-0.045625</td>\n",
       "      <td>0.0</td>\n",
       "      <td>0.0</td>\n",
       "      <td>3</td>\n",
       "    </tr>\n",
       "    <tr>\n",
       "      <th>5</th>\n",
       "      <td>5</td>\n",
       "      <td>-0.023297</td>\n",
       "      <td>0.915366</td>\n",
       "      <td>-0.368289</td>\n",
       "      <td>-0.346429</td>\n",
       "      <td>0.001900</td>\n",
       "      <td>-0.075480</td>\n",
       "      <td>0.0</td>\n",
       "      <td>0.0</td>\n",
       "      <td>3</td>\n",
       "    </tr>\n",
       "    <tr>\n",
       "      <th>6</th>\n",
       "      <td>6</td>\n",
       "      <td>-0.026924</td>\n",
       "      <td>0.909778</td>\n",
       "      <td>-0.356466</td>\n",
       "      <td>-0.372550</td>\n",
       "      <td>-0.004241</td>\n",
       "      <td>-0.122841</td>\n",
       "      <td>0.0</td>\n",
       "      <td>0.0</td>\n",
       "      <td>3</td>\n",
       "    </tr>\n",
       "    <tr>\n",
       "      <th>7</th>\n",
       "      <td>7</td>\n",
       "      <td>-0.030488</td>\n",
       "      <td>0.903789</td>\n",
       "      <td>-0.348549</td>\n",
       "      <td>-0.399289</td>\n",
       "      <td>-0.011964</td>\n",
       "      <td>-0.154482</td>\n",
       "      <td>0.0</td>\n",
       "      <td>0.0</td>\n",
       "      <td>0</td>\n",
       "    </tr>\n",
       "    <tr>\n",
       "      <th>8</th>\n",
       "      <td>8</td>\n",
       "      <td>-0.034051</td>\n",
       "      <td>0.897401</td>\n",
       "      <td>-0.348526</td>\n",
       "      <td>-0.425961</td>\n",
       "      <td>-0.019686</td>\n",
       "      <td>-0.154454</td>\n",
       "      <td>0.0</td>\n",
       "      <td>0.0</td>\n",
       "      <td>0</td>\n",
       "    </tr>\n",
       "    <tr>\n",
       "      <th>9</th>\n",
       "      <td>9</td>\n",
       "      <td>-0.037614</td>\n",
       "      <td>0.890613</td>\n",
       "      <td>-0.348503</td>\n",
       "      <td>-0.452634</td>\n",
       "      <td>-0.027407</td>\n",
       "      <td>-0.154436</td>\n",
       "      <td>0.0</td>\n",
       "      <td>0.0</td>\n",
       "      <td>0</td>\n",
       "    </tr>\n",
       "  </tbody>\n",
       "</table>\n",
       "</div>"
      ],
      "text/plain": [
       "   step     pos_x     pos_y     vel_x     vel_y  ship_lander_angle  \\\n",
       "0     0 -0.004053  0.937387 -0.410560 -0.215127           0.004703   \n",
       "1     1 -0.008040  0.933774 -0.401600 -0.240878           0.007613   \n",
       "2     2 -0.011951  0.929763 -0.392188 -0.267401           0.008632   \n",
       "3     3 -0.015796  0.925359 -0.383742 -0.293582           0.007955   \n",
       "4     4 -0.019576  0.920563 -0.375744 -0.319748           0.005674   \n",
       "5     5 -0.023297  0.915366 -0.368289 -0.346429           0.001900   \n",
       "6     6 -0.026924  0.909778 -0.356466 -0.372550          -0.004241   \n",
       "7     7 -0.030488  0.903789 -0.348549 -0.399289          -0.011964   \n",
       "8     8 -0.034051  0.897401 -0.348526 -0.425961          -0.019686   \n",
       "9     9 -0.037614  0.890613 -0.348503 -0.452634          -0.027407   \n",
       "\n",
       "   ship_lander_angular_vel  leg_1_ground_contact  leg_2_ground_contact  action  \n",
       "0                 0.092998                   0.0                   0.0       3  \n",
       "1                 0.058204                   0.0                   0.0       3  \n",
       "2                 0.020372                   0.0                   0.0       3  \n",
       "3                -0.013536                   0.0                   0.0       3  \n",
       "4                -0.045625                   0.0                   0.0       3  \n",
       "5                -0.075480                   0.0                   0.0       3  \n",
       "6                -0.122841                   0.0                   0.0       3  \n",
       "7                -0.154482                   0.0                   0.0       0  \n",
       "8                -0.154454                   0.0                   0.0       0  \n",
       "9                -0.154436                   0.0                   0.0       0  "
      ]
     },
     "execution_count": 2,
     "metadata": {},
     "output_type": "execute_result"
    }
   ],
   "source": [
    "dataset = pd.read_csv('state_vectors_2018-04-09-18-25-26.csv')\n",
    "dataset.head(10)"
   ]
  },
  {
   "cell_type": "markdown",
   "metadata": {},
   "source": [
    "## Split dataframe into Target variable and feature set"
   ]
  },
  {
   "cell_type": "markdown",
   "metadata": {},
   "source": [
    "We will split the state vectors dataset into a feature set X and a target variable y."
   ]
  },
  {
   "cell_type": "code",
   "execution_count": 3,
   "metadata": {
    "collapsed": true
   },
   "outputs": [],
   "source": [
    "X = dataset.iloc[:,1:-1].values\n",
    "y = dataset.iloc[:, -1].values"
   ]
  },
  {
   "cell_type": "markdown",
   "metadata": {},
   "source": [
    "## Split the dataset into the Training set and Test set"
   ]
  },
  {
   "cell_type": "markdown",
   "metadata": {},
   "source": [
    "We are setting aside 25% of the dataset as test set."
   ]
  },
  {
   "cell_type": "code",
   "execution_count": 4,
   "metadata": {
    "collapsed": true
   },
   "outputs": [],
   "source": [
    "X_train, X_test, y_train, y_test = train_test_split(X, y, test_size = 0.25, random_state = 0)"
   ]
  },
  {
   "cell_type": "markdown",
   "metadata": {},
   "source": [
    "We are defining two dictionaries to store the accuracies and training times of the models that we will use."
   ]
  },
  {
   "cell_type": "code",
   "execution_count": 5,
   "metadata": {
    "collapsed": true
   },
   "outputs": [],
   "source": [
    "model_accuracy_comparison = {}\n",
    "model_training_time_comparison = {}"
   ]
  },
  {
   "cell_type": "markdown",
   "metadata": {},
   "source": [
    "## Fit the model"
   ]
  },
  {
   "cell_type": "markdown",
   "metadata": {},
   "source": [
    "We are using three Supervised machine learning models here. They are SuperLearner, Random Forest and ANN. <br>\n",
    "Finally, after evaluating their individual performances, we will choose the best model to run the player file."
   ]
  },
  {
   "cell_type": "markdown",
   "metadata": {},
   "source": [
    "## 1. SuperLearner"
   ]
  },
  {
   "cell_type": "markdown",
   "metadata": {},
   "source": [
    "First, we will train a SuperLearner classifier and observe its performance."
   ]
  },
  {
   "cell_type": "markdown",
   "metadata": {},
   "source": [
    "### Create and fit model"
   ]
  },
  {
   "cell_type": "markdown",
   "metadata": {},
   "source": [
    "Create the model."
   ]
  },
  {
   "cell_type": "code",
   "execution_count": 6,
   "metadata": {
    "collapsed": true,
    "scrolled": true
   },
   "outputs": [],
   "source": [
    "classifier_sl = SuperLearnerClassifier(base_models=['CART','KNN', \"LR\", \"NB\"])"
   ]
  },
  {
   "cell_type": "markdown",
   "metadata": {},
   "source": [
    "Fit the model with training data."
   ]
  },
  {
   "cell_type": "code",
   "execution_count": 7,
   "metadata": {
    "scrolled": true
   },
   "outputs": [
    {
     "name": "stdout",
     "output_type": "stream",
     "text": [
      "fold  0\n",
      "done  DecisionTreeClassifier(class_weight=None, criterion='entropy', max_depth=6,\n",
      "            max_features=None, max_leaf_nodes=None,\n",
      "            min_impurity_decrease=0.0, min_impurity_split=None,\n",
      "            min_samples_leaf=1, min_samples_split=50,\n",
      "            min_weight_fraction_leaf=0.0, presort=False, random_state=None,\n",
      "            splitter='best')\n",
      "done  KNeighborsClassifier(algorithm='auto', leaf_size=30, metric='minkowski',\n",
      "           metric_params=None, n_jobs=1, n_neighbors=6, p=2,\n",
      "           weights='uniform')\n",
      "done  LogisticRegression(C=0.2, class_weight=None, dual=False, fit_intercept=True,\n",
      "          intercept_scaling=1, max_iter=1000, multi_class='ovr', n_jobs=1,\n",
      "          penalty='l2', random_state=None, solver='liblinear', tol=0.0001,\n",
      "          verbose=0, warm_start=False)\n",
      "done  GaussianNB(priors=None)\n",
      "done  DecisionTreeClassifier(class_weight=None, criterion='entropy', max_depth=6,\n",
      "            max_features=None, max_leaf_nodes=None,\n",
      "            min_impurity_decrease=0.0, min_impurity_split=None,\n",
      "            min_samples_leaf=1, min_samples_split=50,\n",
      "            min_weight_fraction_leaf=0.0, presort=False, random_state=None,\n",
      "            splitter='best')\n",
      "done  KNeighborsClassifier(algorithm='auto', leaf_size=30, metric='minkowski',\n",
      "           metric_params=None, n_jobs=1, n_neighbors=6, p=2,\n",
      "           weights='uniform')\n",
      "fold  1\n",
      "done  DecisionTreeClassifier(class_weight=None, criterion='entropy', max_depth=6,\n",
      "            max_features=None, max_leaf_nodes=None,\n",
      "            min_impurity_decrease=0.0, min_impurity_split=None,\n",
      "            min_samples_leaf=1, min_samples_split=50,\n",
      "            min_weight_fraction_leaf=0.0, presort=False, random_state=None,\n",
      "            splitter='best')\n",
      "done  KNeighborsClassifier(algorithm='auto', leaf_size=30, metric='minkowski',\n",
      "           metric_params=None, n_jobs=1, n_neighbors=6, p=2,\n",
      "           weights='uniform')\n",
      "done  LogisticRegression(C=0.2, class_weight=None, dual=False, fit_intercept=True,\n",
      "          intercept_scaling=1, max_iter=1000, multi_class='ovr', n_jobs=1,\n",
      "          penalty='l2', random_state=None, solver='liblinear', tol=0.0001,\n",
      "          verbose=0, warm_start=False)\n",
      "done  GaussianNB(priors=None)\n",
      "done  DecisionTreeClassifier(class_weight=None, criterion='entropy', max_depth=6,\n",
      "            max_features=None, max_leaf_nodes=None,\n",
      "            min_impurity_decrease=0.0, min_impurity_split=None,\n",
      "            min_samples_leaf=1, min_samples_split=50,\n",
      "            min_weight_fraction_leaf=0.0, presort=False, random_state=None,\n",
      "            splitter='best')\n",
      "done  KNeighborsClassifier(algorithm='auto', leaf_size=30, metric='minkowski',\n",
      "           metric_params=None, n_jobs=1, n_neighbors=6, p=2,\n",
      "           weights='uniform')\n",
      "fold  2\n",
      "done  DecisionTreeClassifier(class_weight=None, criterion='entropy', max_depth=6,\n",
      "            max_features=None, max_leaf_nodes=None,\n",
      "            min_impurity_decrease=0.0, min_impurity_split=None,\n",
      "            min_samples_leaf=1, min_samples_split=50,\n",
      "            min_weight_fraction_leaf=0.0, presort=False, random_state=None,\n",
      "            splitter='best')\n",
      "done  KNeighborsClassifier(algorithm='auto', leaf_size=30, metric='minkowski',\n",
      "           metric_params=None, n_jobs=1, n_neighbors=6, p=2,\n",
      "           weights='uniform')\n",
      "done  LogisticRegression(C=0.2, class_weight=None, dual=False, fit_intercept=True,\n",
      "          intercept_scaling=1, max_iter=1000, multi_class='ovr', n_jobs=1,\n",
      "          penalty='l2', random_state=None, solver='liblinear', tol=0.0001,\n",
      "          verbose=0, warm_start=False)\n",
      "done  GaussianNB(priors=None)\n",
      "done  DecisionTreeClassifier(class_weight=None, criterion='entropy', max_depth=6,\n",
      "            max_features=None, max_leaf_nodes=None,\n",
      "            min_impurity_decrease=0.0, min_impurity_split=None,\n",
      "            min_samples_leaf=1, min_samples_split=50,\n",
      "            min_weight_fraction_leaf=0.0, presort=False, random_state=None,\n",
      "            splitter='best')\n",
      "done  KNeighborsClassifier(algorithm='auto', leaf_size=30, metric='minkowski',\n",
      "           metric_params=None, n_jobs=1, n_neighbors=6, p=2,\n",
      "           weights='uniform')\n",
      "fold  3\n",
      "done  DecisionTreeClassifier(class_weight=None, criterion='entropy', max_depth=6,\n",
      "            max_features=None, max_leaf_nodes=None,\n",
      "            min_impurity_decrease=0.0, min_impurity_split=None,\n",
      "            min_samples_leaf=1, min_samples_split=50,\n",
      "            min_weight_fraction_leaf=0.0, presort=False, random_state=None,\n",
      "            splitter='best')\n",
      "done  KNeighborsClassifier(algorithm='auto', leaf_size=30, metric='minkowski',\n",
      "           metric_params=None, n_jobs=1, n_neighbors=6, p=2,\n",
      "           weights='uniform')\n",
      "done  LogisticRegression(C=0.2, class_weight=None, dual=False, fit_intercept=True,\n",
      "          intercept_scaling=1, max_iter=1000, multi_class='ovr', n_jobs=1,\n",
      "          penalty='l2', random_state=None, solver='liblinear', tol=0.0001,\n",
      "          verbose=0, warm_start=False)\n",
      "done  GaussianNB(priors=None)\n",
      "done  DecisionTreeClassifier(class_weight=None, criterion='entropy', max_depth=6,\n",
      "            max_features=None, max_leaf_nodes=None,\n",
      "            min_impurity_decrease=0.0, min_impurity_split=None,\n",
      "            min_samples_leaf=1, min_samples_split=50,\n",
      "            min_weight_fraction_leaf=0.0, presort=False, random_state=None,\n",
      "            splitter='best')\n",
      "done  KNeighborsClassifier(algorithm='auto', leaf_size=30, metric='minkowski',\n",
      "           metric_params=None, n_jobs=1, n_neighbors=6, p=2,\n",
      "           weights='uniform')\n",
      "fold  4\n",
      "done  DecisionTreeClassifier(class_weight=None, criterion='entropy', max_depth=6,\n",
      "            max_features=None, max_leaf_nodes=None,\n",
      "            min_impurity_decrease=0.0, min_impurity_split=None,\n",
      "            min_samples_leaf=1, min_samples_split=50,\n",
      "            min_weight_fraction_leaf=0.0, presort=False, random_state=None,\n",
      "            splitter='best')\n",
      "done  KNeighborsClassifier(algorithm='auto', leaf_size=30, metric='minkowski',\n",
      "           metric_params=None, n_jobs=1, n_neighbors=6, p=2,\n",
      "           weights='uniform')\n",
      "done  LogisticRegression(C=0.2, class_weight=None, dual=False, fit_intercept=True,\n",
      "          intercept_scaling=1, max_iter=1000, multi_class='ovr', n_jobs=1,\n",
      "          penalty='l2', random_state=None, solver='liblinear', tol=0.0001,\n",
      "          verbose=0, warm_start=False)\n",
      "done  GaussianNB(priors=None)\n",
      "done  DecisionTreeClassifier(class_weight=None, criterion='entropy', max_depth=6,\n",
      "            max_features=None, max_leaf_nodes=None,\n",
      "            min_impurity_decrease=0.0, min_impurity_split=None,\n",
      "            min_samples_leaf=1, min_samples_split=50,\n",
      "            min_weight_fraction_leaf=0.0, presort=False, random_state=None,\n",
      "            splitter='best')\n",
      "done  KNeighborsClassifier(algorithm='auto', leaf_size=30, metric='minkowski',\n",
      "           metric_params=None, n_jobs=1, n_neighbors=6, p=2,\n",
      "           weights='uniform')\n",
      "fold  5\n",
      "done  DecisionTreeClassifier(class_weight=None, criterion='entropy', max_depth=6,\n",
      "            max_features=None, max_leaf_nodes=None,\n",
      "            min_impurity_decrease=0.0, min_impurity_split=None,\n",
      "            min_samples_leaf=1, min_samples_split=50,\n",
      "            min_weight_fraction_leaf=0.0, presort=False, random_state=None,\n",
      "            splitter='best')\n",
      "done  KNeighborsClassifier(algorithm='auto', leaf_size=30, metric='minkowski',\n",
      "           metric_params=None, n_jobs=1, n_neighbors=6, p=2,\n",
      "           weights='uniform')\n",
      "done  LogisticRegression(C=0.2, class_weight=None, dual=False, fit_intercept=True,\n",
      "          intercept_scaling=1, max_iter=1000, multi_class='ovr', n_jobs=1,\n",
      "          penalty='l2', random_state=None, solver='liblinear', tol=0.0001,\n",
      "          verbose=0, warm_start=False)\n",
      "done  GaussianNB(priors=None)\n",
      "done  DecisionTreeClassifier(class_weight=None, criterion='entropy', max_depth=6,\n",
      "            max_features=None, max_leaf_nodes=None,\n",
      "            min_impurity_decrease=0.0, min_impurity_split=None,\n",
      "            min_samples_leaf=1, min_samples_split=50,\n",
      "            min_weight_fraction_leaf=0.0, presort=False, random_state=None,\n",
      "            splitter='best')\n",
      "done  KNeighborsClassifier(algorithm='auto', leaf_size=30, metric='minkowski',\n",
      "           metric_params=None, n_jobs=1, n_neighbors=6, p=2,\n",
      "           weights='uniform')\n",
      "fold  6\n",
      "done  DecisionTreeClassifier(class_weight=None, criterion='entropy', max_depth=6,\n",
      "            max_features=None, max_leaf_nodes=None,\n",
      "            min_impurity_decrease=0.0, min_impurity_split=None,\n",
      "            min_samples_leaf=1, min_samples_split=50,\n",
      "            min_weight_fraction_leaf=0.0, presort=False, random_state=None,\n",
      "            splitter='best')\n"
     ]
    },
    {
     "name": "stdout",
     "output_type": "stream",
     "text": [
      "done  KNeighborsClassifier(algorithm='auto', leaf_size=30, metric='minkowski',\n",
      "           metric_params=None, n_jobs=1, n_neighbors=6, p=2,\n",
      "           weights='uniform')\n",
      "done  LogisticRegression(C=0.2, class_weight=None, dual=False, fit_intercept=True,\n",
      "          intercept_scaling=1, max_iter=1000, multi_class='ovr', n_jobs=1,\n",
      "          penalty='l2', random_state=None, solver='liblinear', tol=0.0001,\n",
      "          verbose=0, warm_start=False)\n",
      "done  GaussianNB(priors=None)\n",
      "done  DecisionTreeClassifier(class_weight=None, criterion='entropy', max_depth=6,\n",
      "            max_features=None, max_leaf_nodes=None,\n",
      "            min_impurity_decrease=0.0, min_impurity_split=None,\n",
      "            min_samples_leaf=1, min_samples_split=50,\n",
      "            min_weight_fraction_leaf=0.0, presort=False, random_state=None,\n",
      "            splitter='best')\n",
      "done  KNeighborsClassifier(algorithm='auto', leaf_size=30, metric='minkowski',\n",
      "           metric_params=None, n_jobs=1, n_neighbors=6, p=2,\n",
      "           weights='uniform')\n",
      "fold  7\n",
      "done  DecisionTreeClassifier(class_weight=None, criterion='entropy', max_depth=6,\n",
      "            max_features=None, max_leaf_nodes=None,\n",
      "            min_impurity_decrease=0.0, min_impurity_split=None,\n",
      "            min_samples_leaf=1, min_samples_split=50,\n",
      "            min_weight_fraction_leaf=0.0, presort=False, random_state=None,\n",
      "            splitter='best')\n",
      "done  KNeighborsClassifier(algorithm='auto', leaf_size=30, metric='minkowski',\n",
      "           metric_params=None, n_jobs=1, n_neighbors=6, p=2,\n",
      "           weights='uniform')\n",
      "done  LogisticRegression(C=0.2, class_weight=None, dual=False, fit_intercept=True,\n",
      "          intercept_scaling=1, max_iter=1000, multi_class='ovr', n_jobs=1,\n",
      "          penalty='l2', random_state=None, solver='liblinear', tol=0.0001,\n",
      "          verbose=0, warm_start=False)\n",
      "done  GaussianNB(priors=None)\n",
      "done  DecisionTreeClassifier(class_weight=None, criterion='entropy', max_depth=6,\n",
      "            max_features=None, max_leaf_nodes=None,\n",
      "            min_impurity_decrease=0.0, min_impurity_split=None,\n",
      "            min_samples_leaf=1, min_samples_split=50,\n",
      "            min_weight_fraction_leaf=0.0, presort=False, random_state=None,\n",
      "            splitter='best')\n",
      "done  KNeighborsClassifier(algorithm='auto', leaf_size=30, metric='minkowski',\n",
      "           metric_params=None, n_jobs=1, n_neighbors=6, p=2,\n",
      "           weights='uniform')\n",
      "fold  8\n",
      "done  DecisionTreeClassifier(class_weight=None, criterion='entropy', max_depth=6,\n",
      "            max_features=None, max_leaf_nodes=None,\n",
      "            min_impurity_decrease=0.0, min_impurity_split=None,\n",
      "            min_samples_leaf=1, min_samples_split=50,\n",
      "            min_weight_fraction_leaf=0.0, presort=False, random_state=None,\n",
      "            splitter='best')\n",
      "done  KNeighborsClassifier(algorithm='auto', leaf_size=30, metric='minkowski',\n",
      "           metric_params=None, n_jobs=1, n_neighbors=6, p=2,\n",
      "           weights='uniform')\n",
      "done  LogisticRegression(C=0.2, class_weight=None, dual=False, fit_intercept=True,\n",
      "          intercept_scaling=1, max_iter=1000, multi_class='ovr', n_jobs=1,\n",
      "          penalty='l2', random_state=None, solver='liblinear', tol=0.0001,\n",
      "          verbose=0, warm_start=False)\n",
      "done  GaussianNB(priors=None)\n",
      "done  DecisionTreeClassifier(class_weight=None, criterion='entropy', max_depth=6,\n",
      "            max_features=None, max_leaf_nodes=None,\n",
      "            min_impurity_decrease=0.0, min_impurity_split=None,\n",
      "            min_samples_leaf=1, min_samples_split=50,\n",
      "            min_weight_fraction_leaf=0.0, presort=False, random_state=None,\n",
      "            splitter='best')\n",
      "done  KNeighborsClassifier(algorithm='auto', leaf_size=30, metric='minkowski',\n",
      "           metric_params=None, n_jobs=1, n_neighbors=6, p=2,\n",
      "           weights='uniform')\n",
      "fold  9\n",
      "done  DecisionTreeClassifier(class_weight=None, criterion='entropy', max_depth=6,\n",
      "            max_features=None, max_leaf_nodes=None,\n",
      "            min_impurity_decrease=0.0, min_impurity_split=None,\n",
      "            min_samples_leaf=1, min_samples_split=50,\n",
      "            min_weight_fraction_leaf=0.0, presort=False, random_state=None,\n",
      "            splitter='best')\n",
      "done  KNeighborsClassifier(algorithm='auto', leaf_size=30, metric='minkowski',\n",
      "           metric_params=None, n_jobs=1, n_neighbors=6, p=2,\n",
      "           weights='uniform')\n",
      "done  LogisticRegression(C=0.2, class_weight=None, dual=False, fit_intercept=True,\n",
      "          intercept_scaling=1, max_iter=1000, multi_class='ovr', n_jobs=1,\n",
      "          penalty='l2', random_state=None, solver='liblinear', tol=0.0001,\n",
      "          verbose=0, warm_start=False)\n",
      "done  GaussianNB(priors=None)\n",
      "done  DecisionTreeClassifier(class_weight=None, criterion='entropy', max_depth=6,\n",
      "            max_features=None, max_leaf_nodes=None,\n",
      "            min_impurity_decrease=0.0, min_impurity_split=None,\n",
      "            min_samples_leaf=1, min_samples_split=50,\n",
      "            min_weight_fraction_leaf=0.0, presort=False, random_state=None,\n",
      "            splitter='best')\n",
      "done  KNeighborsClassifier(algorithm='auto', leaf_size=30, metric='minkowski',\n",
      "           metric_params=None, n_jobs=1, n_neighbors=6, p=2,\n",
      "           weights='uniform')\n",
      "fold  10\n",
      "done  DecisionTreeClassifier(class_weight=None, criterion='entropy', max_depth=6,\n",
      "            max_features=None, max_leaf_nodes=None,\n",
      "            min_impurity_decrease=0.0, min_impurity_split=None,\n",
      "            min_samples_leaf=1, min_samples_split=50,\n",
      "            min_weight_fraction_leaf=0.0, presort=False, random_state=None,\n",
      "            splitter='best')\n",
      "done  KNeighborsClassifier(algorithm='auto', leaf_size=30, metric='minkowski',\n",
      "           metric_params=None, n_jobs=1, n_neighbors=6, p=2,\n",
      "           weights='uniform')\n",
      "done  LogisticRegression(C=0.2, class_weight=None, dual=False, fit_intercept=True,\n",
      "          intercept_scaling=1, max_iter=1000, multi_class='ovr', n_jobs=1,\n",
      "          penalty='l2', random_state=None, solver='liblinear', tol=0.0001,\n",
      "          verbose=0, warm_start=False)\n",
      "done  GaussianNB(priors=None)\n",
      "done  DecisionTreeClassifier(class_weight=None, criterion='entropy', max_depth=6,\n",
      "            max_features=None, max_leaf_nodes=None,\n",
      "            min_impurity_decrease=0.0, min_impurity_split=None,\n",
      "            min_samples_leaf=1, min_samples_split=50,\n",
      "            min_weight_fraction_leaf=0.0, presort=False, random_state=None,\n",
      "            splitter='best')\n",
      "done  KNeighborsClassifier(algorithm='auto', leaf_size=30, metric='minkowski',\n",
      "           metric_params=None, n_jobs=1, n_neighbors=6, p=2,\n",
      "           weights='uniform')\n"
     ]
    }
   ],
   "source": [
    "start_time = time.time()\n",
    "classifier_sl.fit(X_train, y_train)\n",
    "model_training_time_comparison['SuperLearner'] = time.time() - start_time"
   ]
  },
  {
   "cell_type": "markdown",
   "metadata": {},
   "source": [
    "### Calculate Accuracy to evaluate performance"
   ]
  },
  {
   "cell_type": "markdown",
   "metadata": {},
   "source": [
    "Use the fitted model to predict on the test data and evaluate the performance of the model by calculating the accuracy."
   ]
  },
  {
   "cell_type": "code",
   "execution_count": 9,
   "metadata": {},
   "outputs": [
    {
     "name": "stdout",
     "output_type": "stream",
     "text": [
      "Accuracy: 0.860921148892\n",
      "             precision    recall  f1-score   support\n",
      "\n",
      "          0       0.89      0.86      0.88     29533\n",
      "          1       0.86      0.44      0.59      2218\n",
      "          2       0.83      0.93      0.88     28942\n",
      "          3       0.90      0.42      0.57      2185\n",
      "\n",
      "avg / total       0.86      0.86      0.86     62878\n",
      "\n"
     ]
    }
   ],
   "source": [
    "# Predicting the Test set results\n",
    "y_pred = classifier_sl.predict(X_test)\n",
    "\n",
    "# Print performance details\n",
    "accuracy = metrics.accuracy_score(y_test, y_pred) # , normalize=True, sample_weight=None\n",
    "print(\"Accuracy: \" +  str(accuracy))\n",
    "model_accuracy_comparison['SuperLearner'] = accuracy\n",
    "print(metrics.classification_report(y_test, y_pred))"
   ]
  },
  {
   "cell_type": "markdown",
   "metadata": {},
   "source": [
    "## 2. Random Forest"
   ]
  },
  {
   "cell_type": "markdown",
   "metadata": {},
   "source": [
    "Now, we will train a RandomForest classifier and observe its performance."
   ]
  },
  {
   "cell_type": "markdown",
   "metadata": {},
   "source": [
    "### Craete and fit model"
   ]
  },
  {
   "cell_type": "markdown",
   "metadata": {},
   "source": [
    "Create the model."
   ]
  },
  {
   "cell_type": "code",
   "execution_count": 10,
   "metadata": {
    "collapsed": true
   },
   "outputs": [],
   "source": [
    "classifier_rf = RandomForestClassifier(min_samples_split=50,n_estimators=200)"
   ]
  },
  {
   "cell_type": "markdown",
   "metadata": {},
   "source": [
    "Fit the model with training data."
   ]
  },
  {
   "cell_type": "code",
   "execution_count": 11,
   "metadata": {
    "collapsed": true
   },
   "outputs": [],
   "source": [
    "start_time = time.time()\n",
    "classifier_rf.fit(X_train, y_train)\n",
    "model_training_time_comparison['Random_Forest'] = time.time() - start_time"
   ]
  },
  {
   "cell_type": "markdown",
   "metadata": {},
   "source": [
    "### Calculate Accuracy to evaluate performance"
   ]
  },
  {
   "cell_type": "markdown",
   "metadata": {},
   "source": [
    "Use the fitted model to predict on the test data and evaluate the performance of the model by calculating the accuracy."
   ]
  },
  {
   "cell_type": "code",
   "execution_count": 12,
   "metadata": {},
   "outputs": [
    {
     "name": "stdout",
     "output_type": "stream",
     "text": [
      "Accuracy: 0.872022010878\n",
      "             precision    recall  f1-score   support\n",
      "\n",
      "          0       0.94      0.84      0.89     29533\n",
      "          1       1.00      0.38      0.55      2218\n",
      "          2       0.81      0.98      0.89     28942\n",
      "          3       0.99      0.36      0.53      2185\n",
      "\n",
      "avg / total       0.89      0.87      0.86     62878\n",
      "\n"
     ]
    }
   ],
   "source": [
    "# Predicting the Test set results\n",
    "y_pred = classifier_rf.predict(X_test)\n",
    "\n",
    "# Print performance details\n",
    "accuracy = metrics.accuracy_score(y_test, y_pred) # , normalize=True, sample_weight=None\n",
    "print(\"Accuracy: \" +  str(accuracy))\n",
    "model_accuracy_comparison['Random_Forest'] = accuracy\n",
    "print(metrics.classification_report(y_test, y_pred))"
   ]
  },
  {
   "cell_type": "markdown",
   "metadata": {},
   "source": [
    "## 3. ANN"
   ]
  },
  {
   "cell_type": "markdown",
   "metadata": {},
   "source": [
    "Our final model is an Artificial Neural Net with two hidden layers."
   ]
  },
  {
   "cell_type": "markdown",
   "metadata": {},
   "source": [
    "### Create and fit model"
   ]
  },
  {
   "cell_type": "markdown",
   "metadata": {},
   "source": [
    "Convert the target features to binary encoded labels."
   ]
  },
  {
   "cell_type": "code",
   "execution_count": 13,
   "metadata": {
    "collapsed": true
   },
   "outputs": [],
   "source": [
    "num_classes = 4\n",
    "# convert to binary encoded labels\n",
    "y_test_wide = keras.utils.to_categorical(y_test, num_classes)\n",
    "y_train_wide = keras.utils.to_categorical(y_train, num_classes)"
   ]
  },
  {
   "cell_type": "markdown",
   "metadata": {},
   "source": [
    "Create the model."
   ]
  },
  {
   "cell_type": "code",
   "execution_count": 14,
   "metadata": {
    "collapsed": true
   },
   "outputs": [],
   "source": [
    "epochs = 50\n",
    "batch_size = 128"
   ]
  },
  {
   "cell_type": "code",
   "execution_count": 15,
   "metadata": {
    "scrolled": true
   },
   "outputs": [
    {
     "name": "stdout",
     "output_type": "stream",
     "text": [
      "_________________________________________________________________\n",
      "Layer (type)                 Output Shape              Param #   \n",
      "=================================================================\n",
      "dense_1 (Dense)              (None, 8)                 72        \n",
      "_________________________________________________________________\n",
      "dense_2 (Dense)              (None, 8)                 72        \n",
      "_________________________________________________________________\n",
      "dense_3 (Dense)              (None, 4)                 36        \n",
      "=================================================================\n",
      "Total params: 180\n",
      "Trainable params: 180\n",
      "Non-trainable params: 0\n",
      "_________________________________________________________________\n"
     ]
    }
   ],
   "source": [
    "model = Sequential()\n",
    "model.add(Dense(8, input_dim=X_train.shape[1], activation='relu'))\n",
    "model.add(Dense(8, activation='relu'))\n",
    "model.add(Dense(num_classes, activation='softmax'))\n",
    "model.summary()"
   ]
  },
  {
   "cell_type": "code",
   "execution_count": 16,
   "metadata": {
    "collapsed": true
   },
   "outputs": [],
   "source": [
    "model.compile(optimizer='rmsprop', loss='categorical_crossentropy', metrics=['accuracy'])"
   ]
  },
  {
   "cell_type": "markdown",
   "metadata": {},
   "source": [
    "Fit the model with training data."
   ]
  },
  {
   "cell_type": "code",
   "execution_count": 17,
   "metadata": {
    "scrolled": true
   },
   "outputs": [
    {
     "name": "stdout",
     "output_type": "stream",
     "text": [
      "Train on 141475 samples, validate on 47159 samples\n",
      "Epoch 1/50\n",
      "141475/141475 [==============================] - 4s 28us/step - loss: 0.7618 - acc: 0.6943 - val_loss: 0.6284 - val_acc: 0.7395\n",
      "Epoch 2/50\n",
      "141475/141475 [==============================] - 2s 15us/step - loss: 0.5837 - acc: 0.7483 - val_loss: 0.5393 - val_acc: 0.7660\n",
      "Epoch 3/50\n",
      "141475/141475 [==============================] - 2s 16us/step - loss: 0.5069 - acc: 0.7776 - val_loss: 0.4753 - val_acc: 0.7961\n",
      "Epoch 4/50\n",
      "141475/141475 [==============================] - 2s 15us/step - loss: 0.4455 - acc: 0.8095 - val_loss: 0.4155 - val_acc: 0.8341\n",
      "Epoch 5/50\n",
      "141475/141475 [==============================] - 2s 15us/step - loss: 0.3954 - acc: 0.8466 - val_loss: 0.3737 - val_acc: 0.8450\n",
      "Epoch 6/50\n",
      "141475/141475 [==============================] - 2s 14us/step - loss: 0.3554 - acc: 0.8778 - val_loss: 0.3425 - val_acc: 0.9000\n",
      "Epoch 7/50\n",
      "141475/141475 [==============================] - 2s 15us/step - loss: 0.3273 - acc: 0.8938 - val_loss: 0.3152 - val_acc: 0.8931\n",
      "Epoch 8/50\n",
      "141475/141475 [==============================] - 2s 16us/step - loss: 0.3053 - acc: 0.9032 - val_loss: 0.2952 - val_acc: 0.9154\n",
      "Epoch 9/50\n",
      "141475/141475 [==============================] - 2s 16us/step - loss: 0.2879 - acc: 0.9098 - val_loss: 0.2852 - val_acc: 0.8983\n",
      "Epoch 10/50\n",
      "141475/141475 [==============================] - 2s 17us/step - loss: 0.2742 - acc: 0.9158 - val_loss: 0.2768 - val_acc: 0.8973\n",
      "Epoch 11/50\n",
      "141475/141475 [==============================] - 2s 18us/step - loss: 0.2628 - acc: 0.9209 - val_loss: 0.2546 - val_acc: 0.9250\n",
      "Epoch 12/50\n",
      "141475/141475 [==============================] - 2s 15us/step - loss: 0.2534 - acc: 0.9259 - val_loss: 0.2483 - val_acc: 0.9357\n",
      "Epoch 13/50\n",
      "141475/141475 [==============================] - 2s 15us/step - loss: 0.2458 - acc: 0.9281 - val_loss: 0.2480 - val_acc: 0.9279\n",
      "Epoch 14/50\n",
      "141475/141475 [==============================] - 2s 14us/step - loss: 0.2394 - acc: 0.9312 - val_loss: 0.2357 - val_acc: 0.9359\n",
      "Epoch 15/50\n",
      "141475/141475 [==============================] - 2s 17us/step - loss: 0.2340 - acc: 0.9329 - val_loss: 0.2309 - val_acc: 0.9382\n",
      "Epoch 16/50\n",
      "141475/141475 [==============================] - 2s 17us/step - loss: 0.2294 - acc: 0.9345 - val_loss: 0.2248 - val_acc: 0.9293\n",
      "Epoch 17/50\n",
      "141475/141475 [==============================] - 3s 18us/step - loss: 0.2248 - acc: 0.9359 - val_loss: 0.2236 - val_acc: 0.9261\n",
      "Epoch 18/50\n",
      "141475/141475 [==============================] - 2s 16us/step - loss: 0.2206 - acc: 0.9373 - val_loss: 0.2143 - val_acc: 0.9398\n",
      "Epoch 19/50\n",
      "141475/141475 [==============================] - 2s 15us/step - loss: 0.2177 - acc: 0.9379 - val_loss: 0.2222 - val_acc: 0.9201\n",
      "Epoch 20/50\n",
      "141475/141475 [==============================] - 2s 15us/step - loss: 0.2141 - acc: 0.9390 - val_loss: 0.2086 - val_acc: 0.9450\n",
      "Epoch 21/50\n",
      "141475/141475 [==============================] - 2s 17us/step - loss: 0.2116 - acc: 0.9386 - val_loss: 0.2216 - val_acc: 0.9258\n",
      "Epoch 22/50\n",
      "141475/141475 [==============================] - 2s 15us/step - loss: 0.2082 - acc: 0.9393 - val_loss: 0.2138 - val_acc: 0.9338\n",
      "Epoch 23/50\n",
      "141475/141475 [==============================] - 2s 15us/step - loss: 0.2054 - acc: 0.9396 - val_loss: 0.2039 - val_acc: 0.9384\n",
      "Epoch 24/50\n",
      "141475/141475 [==============================] - 2s 17us/step - loss: 0.2018 - acc: 0.9397 - val_loss: 0.1966 - val_acc: 0.9467\n",
      "Epoch 25/50\n",
      "141475/141475 [==============================] - 2s 15us/step - loss: 0.1988 - acc: 0.9409 - val_loss: 0.1970 - val_acc: 0.9347\n",
      "Epoch 26/50\n",
      "141475/141475 [==============================] - 2s 15us/step - loss: 0.1960 - acc: 0.9412 - val_loss: 0.1911 - val_acc: 0.9430\n",
      "Epoch 27/50\n",
      "141475/141475 [==============================] - 2s 15us/step - loss: 0.1933 - acc: 0.9419 - val_loss: 0.1865 - val_acc: 0.9462\n",
      "Epoch 28/50\n",
      "141475/141475 [==============================] - 2s 15us/step - loss: 0.1905 - acc: 0.9420 - val_loss: 0.1906 - val_acc: 0.9405\n",
      "Epoch 29/50\n",
      "141475/141475 [==============================] - 2s 15us/step - loss: 0.1878 - acc: 0.9428 - val_loss: 0.1864 - val_acc: 0.9420\n",
      "Epoch 30/50\n",
      "141475/141475 [==============================] - 2s 15us/step - loss: 0.1854 - acc: 0.9435 - val_loss: 0.1823 - val_acc: 0.9393\n",
      "Epoch 31/50\n",
      "141475/141475 [==============================] - 2s 17us/step - loss: 0.1829 - acc: 0.9446 - val_loss: 0.2039 - val_acc: 0.9206\n",
      "Epoch 32/50\n",
      "141475/141475 [==============================] - 2s 17us/step - loss: 0.1807 - acc: 0.9446 - val_loss: 0.1855 - val_acc: 0.9337\n",
      "Epoch 33/50\n",
      "141475/141475 [==============================] - 2s 15us/step - loss: 0.1784 - acc: 0.9450 - val_loss: 0.1779 - val_acc: 0.9432\n",
      "Epoch 34/50\n",
      "141475/141475 [==============================] - 2s 15us/step - loss: 0.1761 - acc: 0.9458 - val_loss: 0.1758 - val_acc: 0.9428\n",
      "Epoch 35/50\n",
      "141475/141475 [==============================] - 2s 15us/step - loss: 0.1738 - acc: 0.9459 - val_loss: 0.1786 - val_acc: 0.9366\n",
      "Epoch 36/50\n",
      "141475/141475 [==============================] - 2s 15us/step - loss: 0.1718 - acc: 0.9465 - val_loss: 0.1663 - val_acc: 0.9490\n",
      "Epoch 37/50\n",
      "141475/141475 [==============================] - 2s 16us/step - loss: 0.1692 - acc: 0.9477 - val_loss: 0.1706 - val_acc: 0.9433\n",
      "Epoch 38/50\n",
      "141475/141475 [==============================] - 2s 16us/step - loss: 0.1673 - acc: 0.9476 - val_loss: 0.1627 - val_acc: 0.9476\n",
      "Epoch 39/50\n",
      "141475/141475 [==============================] - 2s 17us/step - loss: 0.1650 - acc: 0.9488 - val_loss: 0.1707 - val_acc: 0.9402\n",
      "Epoch 40/50\n",
      "141475/141475 [==============================] - 2s 16us/step - loss: 0.1627 - acc: 0.9497 - val_loss: 0.1597 - val_acc: 0.9500\n",
      "Epoch 41/50\n",
      "141475/141475 [==============================] - 2s 15us/step - loss: 0.1599 - acc: 0.9504 - val_loss: 0.1557 - val_acc: 0.9516\n",
      "Epoch 42/50\n",
      "141475/141475 [==============================] - 2s 16us/step - loss: 0.1576 - acc: 0.9513 - val_loss: 0.1633 - val_acc: 0.9444\n",
      "Epoch 43/50\n",
      "141475/141475 [==============================] - 2s 16us/step - loss: 0.1550 - acc: 0.9519 - val_loss: 0.1485 - val_acc: 0.9571\n",
      "Epoch 44/50\n",
      "141475/141475 [==============================] - 2s 15us/step - loss: 0.1528 - acc: 0.9533 - val_loss: 0.1550 - val_acc: 0.9500\n",
      "Epoch 45/50\n",
      "141475/141475 [==============================] - 2s 16us/step - loss: 0.1506 - acc: 0.9535 - val_loss: 0.1488 - val_acc: 0.9528\n",
      "Epoch 46/50\n",
      "141475/141475 [==============================] - 3s 18us/step - loss: 0.1481 - acc: 0.9548 - val_loss: 0.1452 - val_acc: 0.9531\n",
      "Epoch 47/50\n",
      "141475/141475 [==============================] - 2s 16us/step - loss: 0.1455 - acc: 0.9554 - val_loss: 0.1451 - val_acc: 0.9508\n",
      "Epoch 48/50\n",
      "141475/141475 [==============================] - 2s 16us/step - loss: 0.1435 - acc: 0.9562 - val_loss: 0.1451 - val_acc: 0.9522\n",
      "Epoch 49/50\n",
      "141475/141475 [==============================] - 2s 16us/step - loss: 0.1413 - acc: 0.9569 - val_loss: 0.1361 - val_acc: 0.9590\n",
      "Epoch 50/50\n",
      "141475/141475 [==============================] - 2s 16us/step - loss: 0.1389 - acc: 0.9575 - val_loss: 0.1364 - val_acc: 0.9559\n"
     ]
    }
   ],
   "source": [
    "start_time = time.time()\n",
    "history = model.fit(X_train, y_train_wide, batch_size=batch_size, epochs=epochs, validation_split=0.25)\n",
    "model_training_time_comparison['ANN'] = time.time() - start_time"
   ]
  },
  {
   "cell_type": "markdown",
   "metadata": {},
   "source": [
    "Visualize the loss function to determine how effective the model trained is."
   ]
  },
  {
   "cell_type": "code",
   "execution_count": 28,
   "metadata": {},
   "outputs": [
    {
     "data": {
      "image/png": "[encoded data removed]",
      "text/plain": [
       "<matplotlib.figure.Figure at 0x58d6f1128>"
      ]
     },
     "metadata": {},
     "output_type": "display_data"
    }
   ],
   "source": [
    "loss = history.history['loss']\n",
    "val_loss = history.history['val_loss']\n",
    "plt.figure(figsize=(18,6))\n",
    "plt.xlabel('Epochs')\n",
    "plt.ylabel('Loss')\n",
    "plt.plot(loss, 'blue', label='Training Loss')\n",
    "plt.plot(val_loss, 'green', label='Validation Loss')\n",
    "plt.xticks(range(0,epochs)[0::2])\n",
    "plt.legend()\n",
    "plt.show()"
   ]
  },
  {
   "cell_type": "markdown",
   "metadata": {},
   "source": [
    "### Calculate Accuracy and evaluate performance"
   ]
  },
  {
   "cell_type": "markdown",
   "metadata": {},
   "source": [
    "Use the fitted model to predict on the test data and evaluate the performance of the model by calculating the accuracy."
   ]
  },
  {
   "cell_type": "code",
   "execution_count": 29,
   "metadata": {},
   "outputs": [
    {
     "name": "stdout",
     "output_type": "stream",
     "text": [
      "Accuracy: 0.954181112631\n",
      "             precision    recall  f1-score   support\n",
      "\n",
      "          0       0.95      0.98      0.97     29533\n",
      "          1       0.88      0.67      0.76      2218\n",
      "          2       0.96      0.98      0.97     28942\n",
      "          3       0.91      0.59      0.72      2185\n",
      "\n",
      "avg / total       0.95      0.95      0.95     62878\n",
      "\n"
     ]
    }
   ],
   "source": [
    "# Predicting the Test set results\n",
    "y_pred = model.predict_classes(X_test)\n",
    "\n",
    "# Print performance details\n",
    "accuracy = metrics.accuracy_score(y_test, y_pred) # , normalize=True, sample_weight=None\n",
    "print(\"Accuracy: \" +  str(accuracy))\n",
    "model_accuracy_comparison['ANN'] = accuracy\n",
    "print(metrics.classification_report(y_test, y_pred))"
   ]
  },
  {
   "cell_type": "markdown",
   "metadata": {},
   "source": [
    "## Compare the accuracies of the three trained models"
   ]
  },
  {
   "cell_type": "markdown",
   "metadata": {},
   "source": [
    "Compare the performance of the three supervised machine learning models."
   ]
  },
  {
   "cell_type": "code",
   "execution_count": 30,
   "metadata": {},
   "outputs": [
    {
     "data": {
      "text/plain": [
       "{'ANN': 0.95418111263080885,\n",
       " 'Random_Forest': 0.87202201087820863,\n",
       " 'SuperLearner': 0.86092114889150417}"
      ]
     },
     "execution_count": 30,
     "metadata": {},
     "output_type": "execute_result"
    }
   ],
   "source": [
    "model_accuracy_comparison"
   ]
  },
  {
   "cell_type": "code",
   "execution_count": 38,
   "metadata": {},
   "outputs": [
    {
     "data": {
      "image/png": "[encoded data removed]",
      "text/plain": [
       "<matplotlib.figure.Figure at 0x58da7fef0>"
      ]
     },
     "metadata": {},
     "output_type": "display_data"
    }
   ],
   "source": [
    "#Plot the accuracy\n",
    "plt.xlim(0, 1.0)\n",
    "_ = plt.barh(range(len(model_accuracy_comparison)), list(model_accuracy_comparison.values()), align='center')\n",
    "_= plt.yticks(range(len(model_accuracy_comparison)), list(model_accuracy_comparison.keys()))\n",
    "plt.title(\"Accuracy Comparison plot\")\n",
    "plt.xlabel(\"Accuracy\")\n",
    "plt.ylabel(\"Models\")\n",
    "\n",
    "plt.show()"
   ]
  },
  {
   "cell_type": "markdown",
   "metadata": {},
   "source": [
    "The above plot shows that ANN has the highest accuracy."
   ]
  },
  {
   "cell_type": "markdown",
   "metadata": {},
   "source": [
    "## Compare the training times of the three trained models"
   ]
  },
  {
   "cell_type": "markdown",
   "metadata": {},
   "source": [
    "Compare the time taken to train each of the three supervised machine learning models."
   ]
  },
  {
   "cell_type": "code",
   "execution_count": 32,
   "metadata": {},
   "outputs": [
    {
     "data": {
      "text/plain": [
       "{'ANN': 113.64119863510132,\n",
       " 'Random_Forest': 113.95395469665527,\n",
       " 'SuperLearner': 173.51425337791443}"
      ]
     },
     "execution_count": 32,
     "metadata": {},
     "output_type": "execute_result"
    }
   ],
   "source": [
    "model_training_time_comparison"
   ]
  },
  {
   "cell_type": "code",
   "execution_count": 39,
   "metadata": {},
   "outputs": [
    {
     "data": {
      "image/png": "[encoded data removed]",
      "text/plain": [
       "<matplotlib.figure.Figure at 0x58d577f28>"
      ]
     },
     "metadata": {},
     "output_type": "display_data"
    }
   ],
   "source": [
    "#Plot the accuracy\n",
    "plt.xlim(0, 200.0)\n",
    "_ = plt.barh(range(len(model_training_time_comparison)), list(model_training_time_comparison.values()), align='center')\n",
    "_= plt.yticks(range(len(model_training_time_comparison)), list(model_training_time_comparison.keys()))\n",
    "plt.title(\"Accuracy Comparison plot\")\n",
    "plt.xlabel(\"Accuracy\")\n",
    "plt.ylabel(\"Models\")\n",
    "\n",
    "plt.show()"
   ]
  },
  {
   "cell_type": "markdown",
   "metadata": {},
   "source": [
    "The above plot shows that ANN has taken the least time to train."
   ]
  },
  {
   "cell_type": "markdown",
   "metadata": {},
   "source": [
    "## Save best model"
   ]
  },
  {
   "cell_type": "markdown",
   "metadata": {},
   "source": [
    "From the above plots it is clear that ANN's performance is best. Hence we are saving the ANN model as our state based model."
   ]
  },
  {
   "cell_type": "code",
   "execution_count": 37,
   "metadata": {
    "collapsed": true
   },
   "outputs": [],
   "source": [
    "# save model\n",
    "filepath = \"player_ANN.mod\"\n",
    "model.save(filepath)"
   ]
  }
 ],
 "metadata": {
  "kernelspec": {
   "display_name": "Python 3",
   "language": "python",
   "name": "python3"
  },
  "language_info": {
   "codemirror_mode": {
    "name": "ipython",
    "version": 3
   },
   "file_extension": ".py",
   "mimetype": "text/x-python",
   "name": "python",
   "nbconvert_exporter": "python",
   "pygments_lexer": "ipython3",
   "version": "3.6.1"
  }
 },
 "nbformat": 4,
 "nbformat_minor": 2
}
